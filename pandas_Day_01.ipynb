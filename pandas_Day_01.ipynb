{
  "nbformat": 4,
  "nbformat_minor": 0,
  "metadata": {
    "colab": {
      "provenance": [],
      "authorship_tag": "ABX9TyPcd2wjN1RIaxH+ptNa/MDf",
      "include_colab_link": true
    },
    "kernelspec": {
      "name": "python3",
      "display_name": "Python 3"
    },
    "language_info": {
      "name": "python"
    }
  },
  "cells": [
    {
      "cell_type": "markdown",
      "metadata": {
        "id": "view-in-github",
        "colab_type": "text"
      },
      "source": [
        "<a href=\"https://colab.research.google.com/github/atulnath/Pandas-100-days-challenge/blob/main/pandas_Day_01.ipynb\" target=\"_parent\"><img src=\"https://colab.research.google.com/assets/colab-badge.svg\" alt=\"Open In Colab\"/></a>"
      ]
    },
    {
      "cell_type": "code",
      "execution_count": null,
      "metadata": {
        "colab": {
          "base_uri": "https://localhost:8080/"
        },
        "id": "06RrcvI9uV8B",
        "outputId": "7cbd7112-4e1c-417f-848d-fc71e94725be"
      },
      "outputs": [
        {
          "output_type": "stream",
          "name": "stdout",
          "text": [
            "Pandas Series is: \n",
            "0    10\n",
            "1    20\n",
            "2    30\n",
            "3    40\n",
            "4    50\n",
            "dtype: int64\n"
          ]
        }
      ],
      "source": [
        "import pandas as pd\n",
        "\n",
        "nums = pd.Series([x for x in range(10,51,10)])\n",
        "print(\"Pandas Series is: \")\n",
        "print(nums)"
      ]
    },
    {
      "cell_type": "markdown",
      "source": [
        "*Here from the last example, 0,1,2,3,4 are called as labels and 10-50 are the data*\n",
        "\n",
        "> Now we can access the value using index number as in an array which are called in pandas as a label\n",
        "\n"
      ],
      "metadata": {
        "id": "N8IPZ5rYvS5q"
      }
    },
    {
      "cell_type": "code",
      "source": [
        "print(nums[2])"
      ],
      "metadata": {
        "colab": {
          "base_uri": "https://localhost:8080/"
        },
        "id": "qsluVD6WwH9x",
        "outputId": "1a33f341-38f1-4c90-ecbc-89f1e3779913"
      },
      "execution_count": null,
      "outputs": [
        {
          "output_type": "stream",
          "name": "stdout",
          "text": [
            "30\n"
          ]
        }
      ]
    },
    {
      "cell_type": "code",
      "source": [
        "#Lets change the labels by defining.\n",
        "\n",
        "nums = pd.Series([x for x in range(10,51,10)],index=['a','b','c','d','e'])\n",
        "print(\"Pandas Series is: \")\n",
        "print(nums)"
      ],
      "metadata": {
        "colab": {
          "base_uri": "https://localhost:8080/"
        },
        "id": "cdchvsvLwQdR",
        "outputId": "fbd28bdd-6795-40a1-c6c9-f4437b9f1dc2"
      },
      "execution_count": null,
      "outputs": [
        {
          "output_type": "stream",
          "name": "stdout",
          "text": [
            "Pandas Series is: \n",
            "a    10\n",
            "b    20\n",
            "c    30\n",
            "d    40\n",
            "e    50\n",
            "dtype: int64\n"
          ]
        }
      ]
    },
    {
      "cell_type": "code",
      "source": [
        "#Lets access element\n",
        "\n",
        "print(nums['d'])"
      ],
      "metadata": {
        "colab": {
          "base_uri": "https://localhost:8080/"
        },
        "id": "TSCIBVEdwkNo",
        "outputId": "37e4c83c-c19a-42e9-ece0-a88f4679abfb"
      },
      "execution_count": null,
      "outputs": [
        {
          "output_type": "stream",
          "name": "stdout",
          "text": [
            "40\n"
          ]
        }
      ]
    },
    {
      "cell_type": "code",
      "source": [
        "#Pandas Series from dictionary\n",
        "\n",
        "dicts={'A':5, 'B':10, 'C':15}\n",
        "nums = pd.Series(dicts)\n",
        "print(\"Pandas Series is: \")\n",
        "print(nums)\n",
        "\n",
        "nums2 = pd.Series(dicts,index=['A','C','A','B'])\n",
        "print(\"Pandas Series is: \")\n",
        "print(nums2)"
      ],
      "metadata": {
        "colab": {
          "base_uri": "https://localhost:8080/"
        },
        "id": "fSNE0pSewveA",
        "outputId": "e7010f0f-25a1-4eba-b432-a5c06412d6e4"
      },
      "execution_count": null,
      "outputs": [
        {
          "output_type": "stream",
          "name": "stdout",
          "text": [
            "Pandas Series is: \n",
            "A     5\n",
            "B    10\n",
            "C    15\n",
            "dtype: int64\n",
            "Pandas Series is: \n",
            "A     5\n",
            "C    15\n",
            "A     5\n",
            "B    10\n",
            "dtype: int64\n"
          ]
        }
      ]
    },
    {
      "cell_type": "code",
      "source": [
        "#DataFrame can be think as a table, with multiple rows and cols\n",
        "#It can think as excel sheet where on the top we have colums and we have rows\n",
        "#think as a record. records are start with index 0\n",
        "\n",
        "\n",
        "# We can create DataFrame in 4 ways\n",
        "\n",
        "# Method 01\n",
        "\n",
        "# Using Python Dictionary\n",
        "\n",
        "import pandas as pd\n",
        "\n",
        "student = {'FName':['Atul','Dhanush','Ajay','Hasan'],\n",
        "           'LName':['Nath','NL','Ramakrishna','Uddin'],\n",
        "           'StudentStatus':['Yes','No','Yes','No'],\n",
        "           'Cities':['Chemnitz','Munich','Berlin','Leipzig']\n",
        "           }\n",
        "\n",
        "#Lets Create DataFrame from this dictionary\n",
        "\n",
        "student_df = pd.DataFrame(student)\n",
        "print(student_df)"
      ],
      "metadata": {
        "colab": {
          "base_uri": "https://localhost:8080/"
        },
        "id": "p7QzaoDExc1R",
        "outputId": "79b165f0-6fcc-4ae1-abfa-3ad6b9ce6e07"
      },
      "execution_count": null,
      "outputs": [
        {
          "output_type": "stream",
          "name": "stdout",
          "text": [
            "     FName        LName StudentStatus    Cities\n",
            "0     Atul         Nath           Yes  Chemnitz\n",
            "1  Dhanush           NL            No    Munich\n",
            "2     Ajay  Ramakrishna           Yes    Berlin\n",
            "3    Hasan        Uddin            No   Leipzig\n"
          ]
        }
      ]
    },
    {
      "cell_type": "code",
      "source": [
        "#Method 02\n",
        "\n",
        "#DataFrame from List\n",
        "\n",
        "student_list = [['Atul','Nath','Yes','Chemnitz'],\n",
        "                ['Dhanush','NL','No','Munich'],\n",
        "                ['Ajay','Ramakrishna','Yes','Berlin'],\n",
        "                ['Hasan','Uddin','No','Leipzig']\n",
        "                ]\n",
        "student_df = pd.DataFrame(student_list,columns=['FName','LName','StudentStatus','Cities'])\n",
        "print(student_df)"
      ],
      "metadata": {
        "colab": {
          "base_uri": "https://localhost:8080/"
        },
        "id": "J46S5Vcmzvvp",
        "outputId": "a77be352-2c0f-4819-dc30-9cc16ab7aecb"
      },
      "execution_count": null,
      "outputs": [
        {
          "output_type": "stream",
          "name": "stdout",
          "text": [
            "     FName        LName StudentStatus    Cities\n",
            "0     Atul         Nath           Yes  Chemnitz\n",
            "1  Dhanush           NL            No    Munich\n",
            "2     Ajay  Ramakrishna           Yes    Berlin\n",
            "3    Hasan        Uddin            No   Leipzig\n"
          ]
        }
      ]
    },
    {
      "cell_type": "code",
      "source": [
        "#Method 03\n",
        "\n",
        "#DataFrame from a CSV(Comma-Seperated-Values) File\n",
        "\n",
        "#student_df = pd.read_csv('student.csv')\n",
        "#print(student_df)"
      ],
      "metadata": {
        "id": "5pdTC4J10VSZ"
      },
      "execution_count": null,
      "outputs": []
    },
    {
      "cell_type": "code",
      "source": [
        "#Method 04\n",
        "\n",
        "#By Creating an empty DataFrame\n",
        "\n",
        "empty_df = pd.DataFrame()\n",
        "print(empty_df)"
      ],
      "metadata": {
        "colab": {
          "base_uri": "https://localhost:8080/"
        },
        "id": "XkQUkc3Y0liQ",
        "outputId": "29e6ce18-34df-4842-e89d-258a5cf6fb78"
      },
      "execution_count": null,
      "outputs": [
        {
          "output_type": "stream",
          "name": "stdout",
          "text": [
            "Empty DataFrame\n",
            "Columns: []\n",
            "Index: []\n"
          ]
        }
      ]
    },
    {
      "cell_type": "code",
      "source": [
        "#We can set index for the dataframe using set_index method\n",
        "\n",
        "student_df.set_index('FName',inplace=True)\n",
        "print(student_df)"
      ],
      "metadata": {
        "colab": {
          "base_uri": "https://localhost:8080/"
        },
        "id": "nnIIXQY91oxq",
        "outputId": "ea40e37e-8b01-4933-e0f0-4ec2064c61e7"
      },
      "execution_count": null,
      "outputs": [
        {
          "output_type": "stream",
          "name": "stdout",
          "text": [
            "               LName StudentStatus    Cities\n",
            "FName                                       \n",
            "Atul            Nath           Yes  Chemnitz\n",
            "Dhanush           NL            No    Munich\n",
            "Ajay     Ramakrishna           Yes    Berlin\n",
            "Hasan          Uddin            No   Leipzig\n"
          ]
        }
      ]
    },
    {
      "cell_type": "code",
      "source": [
        "#Lets access wit FName\n",
        "\n",
        "print(student_df.loc['Dhanush'])\n",
        "print('\\nAnother Student\\n')\n",
        "print(student_df.loc['Atul'])\n"
      ],
      "metadata": {
        "colab": {
          "base_uri": "https://localhost:8080/"
        },
        "id": "rP2s7NaM2E9J",
        "outputId": "af6d87e9-4c0c-4a1f-a755-9c2ee8b9af8b"
      },
      "execution_count": null,
      "outputs": [
        {
          "output_type": "stream",
          "name": "stdout",
          "text": [
            "LName                NL\n",
            "StudentStatus        No\n",
            "Cities           Munich\n",
            "Name: Dhanush, dtype: object\n",
            "\n",
            "Another Student\n",
            "\n",
            "LName                Nath\n",
            "StudentStatus         Yes\n",
            "Cities           Chemnitz\n",
            "Name: Atul, dtype: object\n"
          ]
        }
      ]
    }
  ]
}